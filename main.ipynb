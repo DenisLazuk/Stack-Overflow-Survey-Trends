{
 "cells": [
  {
   "cell_type": "markdown",
   "id": "3c008bdb",
   "metadata": {},
   "source": [
    "## Part I. Explore the Data"
   ]
  },
  {
   "cell_type": "code",
   "execution_count": 11,
   "id": "78d6d7c1",
   "metadata": {},
   "outputs": [],
   "source": [
    "# import libraries and dataset\n",
    "import pandas as pd\n",
    "df = pd.read_csv('developer_dataset.csv', low_memory=False)"
   ]
  },
  {
   "cell_type": "code",
   "execution_count": 12,
   "id": "8ae86f5b",
   "metadata": {},
   "outputs": [
    {
     "name": "stdout",
     "output_type": "stream",
     "text": [
      "Index(['RespondentID', 'Year', 'Country', 'Employment', 'UndergradMajor',\n",
      "       'DevType', 'LanguageWorkedWith', 'LanguageDesireNextYear',\n",
      "       'DatabaseWorkedWith', 'DatabaseDesireNextYear', 'PlatformWorkedWith',\n",
      "       'PlatformDesireNextYear', 'Hobbyist', 'OrgSize', 'YearsCodePro',\n",
      "       'JobSeek', 'ConvertedComp', 'WorkWeekHrs', 'NEWJobHunt',\n",
      "       'NEWJobHuntResearch', 'NEWLearn'],\n",
      "      dtype='object')\n"
     ]
    }
   ],
   "source": [
    "# columns we have in the data\n",
    "print(df.columns)"
   ]
  },
  {
   "cell_type": "code",
   "execution_count": 13,
   "id": "e46f6f3e",
   "metadata": {},
   "outputs": [
    {
     "data": {
      "text/plain": [
       "RespondentID              111209\n",
       "Year                      111209\n",
       "Country                   111209\n",
       "Employment                109425\n",
       "UndergradMajor             98453\n",
       "DevType                   100433\n",
       "LanguageWorkedWith        102018\n",
       "LanguageDesireNextYear     96044\n",
       "DatabaseWorkedWith         85859\n",
       "DatabaseDesireNextYear     74234\n",
       "PlatformWorkedWith         91609\n",
       "PlatformDesireNextYear     85376\n",
       "Hobbyist                   68352\n",
       "OrgSize                    54804\n",
       "YearsCodePro               94793\n",
       "JobSeek                    60556\n",
       "ConvertedComp              91333\n",
       "WorkWeekHrs                51089\n",
       "NEWJobHunt                 19127\n",
       "NEWJobHuntResearch         18683\n",
       "NEWLearn                   24226\n",
       "dtype: int64"
      ]
     },
     "execution_count": 13,
     "metadata": {},
     "output_type": "execute_result"
    }
   ],
   "source": [
    "# row count for each column\n",
    "df.count()"
   ]
  },
  {
   "cell_type": "code",
   "execution_count": 14,
   "id": "e026ce94",
   "metadata": {},
   "outputs": [
    {
     "data": {
      "text/html": [
       "<div>\n",
       "<style scoped>\n",
       "    .dataframe tbody tr th:only-of-type {\n",
       "        vertical-align: middle;\n",
       "    }\n",
       "\n",
       "    .dataframe tbody tr th {\n",
       "        vertical-align: top;\n",
       "    }\n",
       "\n",
       "    .dataframe thead th {\n",
       "        text-align: right;\n",
       "    }\n",
       "</style>\n",
       "<table border=\"1\" class=\"dataframe\">\n",
       "  <thead>\n",
       "    <tr style=\"text-align: right;\">\n",
       "      <th></th>\n",
       "      <th>RespondentID</th>\n",
       "      <th>Year</th>\n",
       "      <th>YearsCodePro</th>\n",
       "      <th>ConvertedComp</th>\n",
       "      <th>WorkWeekHrs</th>\n",
       "    </tr>\n",
       "  </thead>\n",
       "  <tbody>\n",
       "    <tr>\n",
       "      <th>count</th>\n",
       "      <td>111209.000000</td>\n",
       "      <td>111209.000000</td>\n",
       "      <td>94793.000000</td>\n",
       "      <td>9.133300e+04</td>\n",
       "      <td>51089.000000</td>\n",
       "    </tr>\n",
       "    <tr>\n",
       "      <th>mean</th>\n",
       "      <td>19262.039709</td>\n",
       "      <td>2018.854832</td>\n",
       "      <td>9.547045</td>\n",
       "      <td>1.251777e+05</td>\n",
       "      <td>41.051670</td>\n",
       "    </tr>\n",
       "    <tr>\n",
       "      <th>std</th>\n",
       "      <td>11767.011322</td>\n",
       "      <td>0.777503</td>\n",
       "      <td>7.548931</td>\n",
       "      <td>2.461218e+05</td>\n",
       "      <td>13.833929</td>\n",
       "    </tr>\n",
       "    <tr>\n",
       "      <th>min</th>\n",
       "      <td>1.000000</td>\n",
       "      <td>2018.000000</td>\n",
       "      <td>0.000000</td>\n",
       "      <td>0.000000e+00</td>\n",
       "      <td>1.000000</td>\n",
       "    </tr>\n",
       "    <tr>\n",
       "      <th>25%</th>\n",
       "      <td>9268.000000</td>\n",
       "      <td>2018.000000</td>\n",
       "      <td>4.000000</td>\n",
       "      <td>4.600000e+04</td>\n",
       "      <td>40.000000</td>\n",
       "    </tr>\n",
       "    <tr>\n",
       "      <th>50%</th>\n",
       "      <td>18535.000000</td>\n",
       "      <td>2019.000000</td>\n",
       "      <td>8.000000</td>\n",
       "      <td>7.900000e+04</td>\n",
       "      <td>40.000000</td>\n",
       "    </tr>\n",
       "    <tr>\n",
       "      <th>75%</th>\n",
       "      <td>28347.000000</td>\n",
       "      <td>2019.000000</td>\n",
       "      <td>14.000000</td>\n",
       "      <td>1.200000e+05</td>\n",
       "      <td>42.000000</td>\n",
       "    </tr>\n",
       "    <tr>\n",
       "      <th>max</th>\n",
       "      <td>42857.000000</td>\n",
       "      <td>2020.000000</td>\n",
       "      <td>50.000000</td>\n",
       "      <td>2.000000e+06</td>\n",
       "      <td>475.000000</td>\n",
       "    </tr>\n",
       "  </tbody>\n",
       "</table>\n",
       "</div>"
      ],
      "text/plain": [
       "        RespondentID           Year  YearsCodePro  ConvertedComp   WorkWeekHrs\n",
       "count  111209.000000  111209.000000  94793.000000   9.133300e+04  51089.000000\n",
       "mean    19262.039709    2018.854832      9.547045   1.251777e+05     41.051670\n",
       "std     11767.011322       0.777503      7.548931   2.461218e+05     13.833929\n",
       "min         1.000000    2018.000000      0.000000   0.000000e+00      1.000000\n",
       "25%      9268.000000    2018.000000      4.000000   4.600000e+04     40.000000\n",
       "50%     18535.000000    2019.000000      8.000000   7.900000e+04     40.000000\n",
       "75%     28347.000000    2019.000000     14.000000   1.200000e+05     42.000000\n",
       "max     42857.000000    2020.000000     50.000000   2.000000e+06    475.000000"
      ]
     },
     "execution_count": 14,
     "metadata": {},
     "output_type": "execute_result"
    }
   ],
   "source": [
    "# perform some basic summary statistics\n",
    "df.describe()"
   ]
  },
  {
   "cell_type": "code",
   "execution_count": 15,
   "id": "3a0e0ee4",
   "metadata": {},
   "outputs": [
    {
     "name": "stdout",
     "output_type": "stream",
     "text": [
      "% Missing Data:\n",
      "RespondentID               0.000000\n",
      "Year                       0.000000\n",
      "Country                    0.000000\n",
      "Employment                 1.604187\n",
      "UndergradMajor            11.470295\n",
      "DevType                    9.689863\n",
      "LanguageWorkedWith         8.264619\n",
      "LanguageDesireNextYear    13.636486\n",
      "DatabaseWorkedWith        22.794918\n",
      "DatabaseDesireNextYear    33.248208\n",
      "PlatformWorkedWith        17.624473\n",
      "PlatformDesireNextYear    23.229235\n",
      "Hobbyist                  38.537349\n",
      "OrgSize                   50.719816\n",
      "YearsCodePro              14.761395\n",
      "JobSeek                   45.547573\n",
      "ConvertedComp             17.872654\n",
      "WorkWeekHrs               54.060373\n",
      "NEWJobHunt                82.800852\n",
      "NEWJobHuntResearch        83.200101\n",
      "NEWLearn                  78.215792\n",
      "dtype: float64\n"
     ]
    }
   ],
   "source": [
    "# the percentage missing data for each column\n",
    "maxRows = df['RespondentID'].count()\n",
    " \n",
    "print('% Missing Data:')\n",
    "print((1 - df.count() / maxRows) * 100)"
   ]
  },
  {
   "cell_type": "code",
   "execution_count": 16,
   "id": "0c83b437",
   "metadata": {},
   "outputs": [
    {
     "name": "stdout",
     "output_type": "stream",
     "text": [
      "Index(['RespondentID', 'Year', 'Country', 'Employment', 'UndergradMajor',\n",
      "       'DevType', 'LanguageWorkedWith', 'LanguageDesireNextYear',\n",
      "       'DatabaseWorkedWith', 'DatabaseDesireNextYear', 'PlatformWorkedWith',\n",
      "       'PlatformDesireNextYear', 'Hobbyist', 'OrgSize', 'YearsCodePro',\n",
      "       'JobSeek', 'ConvertedComp', 'WorkWeekHrs'],\n",
      "      dtype='object')\n"
     ]
    }
   ],
   "source": [
    "# it is safe to remove the following columns using pandas:\n",
    "# NEWJobHunt\n",
    "# NEWJobHuntResearch\n",
    "# NEWLearn\n",
    "\n",
    "df.drop(['NEWJobHunt','NEWJobHuntResearch','NEWLearn'], axis=1, inplace=True)\n",
    "print(df.columns)"
   ]
  },
  {
   "cell_type": "markdown",
   "id": "b232b1de",
   "metadata": {},
   "source": [
    "## Part II. Analyze the Data"
   ]
  },
  {
   "cell_type": "code",
   "execution_count": null,
   "id": "71a74c07",
   "metadata": {},
   "outputs": [],
   "source": []
  }
 ],
 "metadata": {
  "kernelspec": {
   "display_name": "Python 3 (ipykernel)",
   "language": "python",
   "name": "python3"
  },
  "language_info": {
   "codemirror_mode": {
    "name": "ipython",
    "version": 3
   },
   "file_extension": ".py",
   "mimetype": "text/x-python",
   "name": "python",
   "nbconvert_exporter": "python",
   "pygments_lexer": "ipython3",
   "version": "3.9.7"
  }
 },
 "nbformat": 4,
 "nbformat_minor": 5
}
